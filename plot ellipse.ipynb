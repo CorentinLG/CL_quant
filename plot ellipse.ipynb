{
 "cells": [
  {
   "cell_type": "code",
   "execution_count": 1,
   "metadata": {},
   "outputs": [],
   "source": [
    "%matplotlib qt5\n",
    "import hyperspy.api as hs\n",
    "import matplotlib.pyplot as plt\n",
    "import numpy as np"
   ]
  },
  {
   "cell_type": "code",
   "execution_count": 2,
   "metadata": {},
   "outputs": [],
   "source": [
    "Quant = []\n",
    "for i in range (3):\n",
    "    Quant.append([])\n",
    "for j in range (23): \n",
    "    Quant[0].append(hs.load('Quant_MgFe-Silicate_M1_Val2'+str(j)+'.hspy'))\n",
    "    Quant[1].append(hs.load('Quant_Fe-Silicate_M1_Val2'+str(j)+'.hspy'))\n",
    "    Quant[2].append(hs.load('Quant_SiFe-Silicate_M1_Val2'+str(j)+'.hspy'))"
   ]
  },
  {
   "cell_type": "code",
   "execution_count": 3,
   "metadata": {},
   "outputs": [],
   "source": [
    "legend = ['MgFe-Silicate', 'Fe-Silicate', 'SiFe-Silicate']"
   ]
  },
  {
   "cell_type": "code",
   "execution_count": 4,
   "metadata": {},
   "outputs": [],
   "source": [
    "color = ['blue', 'green', 'purple']"
   ]
  },
  {
   "cell_type": "code",
   "execution_count": 8,
   "metadata": {},
   "outputs": [],
   "source": [
    "color = ['red', 'red', 'green', 'green', 'blue', 'blue', 'blue', 'purple', 'orange', 'cyan', 'cyan', 'yellow']"
   ]
  },
  {
   "cell_type": "markdown",
   "metadata": {},
   "source": [
    "# Plotting data scattered in a ternary"
   ]
  },
  {
   "cell_type": "code",
   "execution_count": 5,
   "metadata": {},
   "outputs": [],
   "source": [
    "import ternary"
   ]
  },
  {
   "cell_type": "code",
   "execution_count": 6,
   "metadata": {},
   "outputs": [],
   "source": [
    "def tripoints (Quant):\n",
    "    x=[]\n",
    "    y=[]\n",
    "    z=[]\n",
    "    points = []\n",
    "    for i in range (len(Quant[0].data.flatten())):\n",
    "        if np.isnan(Quant[0].data.flatten()[i]) == False:\n",
    "            x.append(Quant[11].data.flatten()[i]*100/(Quant[0].data.flatten()[i]+Quant[7].data.flatten()[i]+Quant[11].data.flatten()[i]+Quant[20].data.flatten()[i]))\n",
    "            y.append((Quant[0].data.flatten()[i]+Quant[20].data.flatten()[i])*100/(Quant[0].data.flatten()[i]+Quant[7].data.flatten()[i]+Quant[11].data.flatten()[i]+Quant[20].data.flatten()[i]))\n",
    "            z.append(Quant[7].data.flatten()[i]*100/(Quant[0].data.flatten()[i]+Quant[7].data.flatten()[i]+Quant[11].data.flatten()[i]+Quant[20].data.flatten()[i]))\n",
    "    for i in range (len(x)):\n",
    "        points.append((x[i], y[i], z[i]))\n",
    "    return points"
   ]
  },
  {
   "cell_type": "code",
   "execution_count": 7,
   "metadata": {},
   "outputs": [],
   "source": [
    "# Scatter Plot\n",
    "scale = 100\n",
    "figure, tax = ternary.figure(scale=scale)\n",
    "figure.set_size_inches(10, 8)\n",
    "#tax.set_title(\"Scatter Plot\", fontsize=20)\n",
    "tax.boundary(linewidth=1)\n",
    "tax.gridlines(multiple=10, color=\"blue\")\n",
    "\n",
    "# Plot a few different styles with a legend\n",
    "\n",
    "tax.left_axis_label(\"Fe\", fontsize=14)\n",
    "tax.right_axis_label(\"Si+Al\", fontsize=14)\n",
    "tax.bottom_axis_label(\"Mg\", fontsize=14, offset =-0.05)\n",
    "\n",
    "points = []\n",
    "for i in range(3):\n",
    "    points.append(tripoints(Quant[i]))\n",
    "    tax.scatter(points[i], marker='s', s = 3, color=color[i], linewidths =0.5, facecolor=color[i], label=legend[i])\n",
    "\n",
    "#tax.scatter(points, marker='s', color='red', label=\"Acfer 094\")\n",
    "\n",
    "tax.legend(fontsize = 12)\n",
    "tax.ticks(axis='lbr', linewidth=1, multiple=10)\n",
    "tax.clear_matplotlib_ticks()\n",
    "\n",
    "tax.show()"
   ]
  },
  {
   "cell_type": "markdown",
   "metadata": {},
   "source": [
    "## Turning ternaries into heatmaps using dictionary as entry"
   ]
  },
  {
   "cell_type": "markdown",
   "metadata": {},
   "source": [
    "### using randomly generated points from the example"
   ]
  },
  {
   "cell_type": "code",
   "execution_count": 77,
   "metadata": {},
   "outputs": [],
   "source": [
    "def generate_random_heatmap_data(scale=5):\n",
    "    from ternary.helpers import simplex_iterator\n",
    "    d = dict()\n",
    "    for (i,j,k) in simplex_iterator(scale):\n",
    "        d[(i,j)] = random.random()\n",
    "    return d"
   ]
  },
  {
   "cell_type": "code",
   "execution_count": 57,
   "metadata": {},
   "outputs": [],
   "source": [
    "d = generate_random_heatmap_data(scale)"
   ]
  },
  {
   "cell_type": "markdown",
   "metadata": {},
   "source": [
    "### Using point from my data"
   ]
  },
  {
   "cell_type": "code",
   "execution_count": 8,
   "metadata": {},
   "outputs": [],
   "source": [
    "def generate_heatmap_data(points, fourth_dim):\n",
    "    d = dict()\n",
    "    fd = []\n",
    "    for i in range(len(fourth_dim)):\n",
    "        if np.isnan(fourth_dim[i]) == False:\n",
    "            fd.append(fourth_dim[i])\n",
    "    l=0\n",
    "    for (i,j,k) in points:\n",
    "        d[(i,j, k)] = fd[l]\n",
    "        l = l+1\n",
    "    return d"
   ]
  },
  {
   "cell_type": "code",
   "execution_count": 9,
   "metadata": {},
   "outputs": [],
   "source": [
    "points = tripoints(Quant[0])"
   ]
  },
  {
   "cell_type": "code",
   "execution_count": 14,
   "metadata": {},
   "outputs": [],
   "source": [
    "d = generate_heatmap_data(points, Al_Si)"
   ]
  },
  {
   "cell_type": "code",
   "execution_count": 15,
   "metadata": {},
   "outputs": [
    {
     "name": "stderr",
     "output_type": "stream",
     "text": [
      "WARNING:matplotlib.legend:No handles with labels found to put in legend.\n"
     ]
    }
   ],
   "source": [
    "scale = 100\n",
    "figure, tax = ternary.figure(scale=scale)\n",
    "tax.heatmap(d, style=\"h\")\n",
    "figure.set_size_inches(10, 8)\n",
    "tax.left_axis_label(\"Fe\", fontsize=14)\n",
    "tax.right_axis_label(\"Si+Al\", fontsize=14)\n",
    "tax.bottom_axis_label(\"Mg\", fontsize=14, offset =-0.05)\n",
    "#tax.set_title(\"Scatter Plot\", fontsize=20)\n",
    "tax.boundary(linewidth=1)\n",
    "tax.gridlines(multiple=10, color=\"blue\")\n",
    "#tax.set_title(\"Heatmap Test: Hexagonal\")\n",
    "tax.legend(fontsize = 12)\n",
    "tax.ticks(axis='lbr', linewidth=1, multiple=10)\n",
    "tax.clear_matplotlib_ticks()\n",
    "\n",
    "tax.show()"
   ]
  },
  {
   "cell_type": "markdown",
   "metadata": {},
   "source": [
    "### Plotting other ratios in 2D diagrams"
   ]
  },
  {
   "cell_type": "code",
   "execution_count": 12,
   "metadata": {
    "collapsed": true
   },
   "outputs": [
    {
     "name": "stdout",
     "output_type": "stream",
     "text": [
      "0 <BaseSignal, title: atomic percent of Al, dimensions: (59, 71|)>\n",
      "1 <BaseSignal, title: atomic percent of C, dimensions: (59, 71|)>\n",
      "2 <BaseSignal, title: atomic percent of Ca, dimensions: (59, 71|)>\n",
      "3 <BaseSignal, title: atomic percent of Cl, dimensions: (59, 71|)>\n",
      "4 <BaseSignal, title: atomic percent of Cr, dimensions: (59, 71|)>\n",
      "5 <BaseSignal, title: atomic percent of Cu, dimensions: (59, 71|)>\n",
      "6 <BaseSignal, title: atomic percent of F, dimensions: (59, 71|)>\n",
      "7 <BaseSignal, title: atomic percent of Fe, dimensions: (59, 71|)>\n",
      "8 <BaseSignal, title: atomic percent of Fe, dimensions: (59, 71|)>\n",
      "9 <BaseSignal, title: atomic percent of Ga, dimensions: (59, 71|)>\n",
      "10 <BaseSignal, title: atomic percent of K, dimensions: (59, 71|)>\n",
      "11 <BaseSignal, title: atomic percent of Mg, dimensions: (59, 71|)>\n",
      "12 <BaseSignal, title: atomic percent of Mn, dimensions: (59, 71|)>\n",
      "13 <BaseSignal, title: atomic percent of N, dimensions: (59, 71|)>\n",
      "14 <BaseSignal, title: atomic percent of Na, dimensions: (59, 71|)>\n",
      "15 <BaseSignal, title: atomic percent of Ni, dimensions: (59, 71|)>\n",
      "16 <BaseSignal, title: atomic percent of O, dimensions: (59, 71|)>\n",
      "17 <BaseSignal, title: atomic percent of P, dimensions: (59, 71|)>\n",
      "18 <BaseSignal, title: atomic percent of Pt, dimensions: (59, 71|)>\n",
      "19 <BaseSignal, title: atomic percent of S, dimensions: (59, 71|)>\n",
      "20 <BaseSignal, title: atomic percent of Si, dimensions: (59, 71|)>\n",
      "21 <BaseSignal, title: atomic percent of Ti, dimensions: (59, 71|)>\n",
      "22 <BaseSignal, title: atomic percent of H, dimensions: (59, 71|)>\n"
     ]
    }
   ],
   "source": [
    "for i in range (len(Quant[0])): print (str(i), Quant[0][i])"
   ]
  },
  {
   "cell_type": "code",
   "execution_count": 11,
   "metadata": {},
   "outputs": [],
   "source": [
    "import copy"
   ]
  },
  {
   "cell_type": "code",
   "execution_count": 12,
   "metadata": {},
   "outputs": [],
   "source": [
    "k=0\n",
    "Q = copy.deepcopy(Quant[k])"
   ]
  },
  {
   "cell_type": "code",
   "execution_count": 13,
   "metadata": {},
   "outputs": [],
   "source": [
    "Ca_Si = (Q[2].data/Q[20].data).flatten()\n",
    "Mg_Si = (Q[11].data/Q[20].data).flatten()\n",
    "P_Si = (Q[17].data/Q[20].data).flatten()\n",
    "S_Fe = (Q[19].data/Q[7].data).flatten()\n",
    "Al_Si = (Q[0].data/Q[20].data).flatten()"
   ]
  },
  {
   "cell_type": "code",
   "execution_count": 37,
   "metadata": {},
   "outputs": [],
   "source": [
    "((Q[2]/Q[20])).plot()"
   ]
  },
  {
   "cell_type": "code",
   "execution_count": 38,
   "metadata": {},
   "outputs": [
    {
     "data": {
      "text/plain": [
       "[<matplotlib.lines.Line2D at 0x112089b0>]"
      ]
     },
     "execution_count": 38,
     "metadata": {},
     "output_type": "execute_result"
    }
   ],
   "source": [
    "plt.plot((Q[2].data/Q[20].data).flatten())"
   ]
  },
  {
   "cell_type": "code",
   "execution_count": 19,
   "metadata": {},
   "outputs": [],
   "source": [
    "plt.plot((Q[7].data/Q[20].data).flatten())"
   ]
  },
  {
   "cell_type": "code",
   "execution_count": 39,
   "metadata": {},
   "outputs": [],
   "source": [
    "plt.figure()\n",
    "plt.scatter(Mg_Si, Ca_Si)\n",
    "plt.show()"
   ]
  },
  {
   "cell_type": "code",
   "execution_count": 40,
   "metadata": {},
   "outputs": [],
   "source": [
    "plt.figure()\n",
    "plt.scatter(P_Si, Ca_Si)\n",
    "plt.show()"
   ]
  },
  {
   "cell_type": "markdown",
   "metadata": {},
   "source": [
    "### Defining and plotting ellipse around data points"
   ]
  },
  {
   "cell_type": "code",
   "execution_count": 10,
   "metadata": {},
   "outputs": [],
   "source": [
    "import matplotlib.pyplot as plt\n",
    "import matplotlib.tri as tri\n",
    "import numpy as np"
   ]
  },
  {
   "cell_type": "code",
   "execution_count": 24,
   "metadata": {},
   "outputs": [],
   "source": [
    "def points (Quant):\n",
    "    x=[]\n",
    "    y=[]\n",
    "    for i in range (len(Quant[7].data.flatten())):\n",
    "        if np.isnan(Quant[7].data.flatten()[i]) ==False:\n",
    "            x.append((Quant[7].data.flatten()[i]+Quant[11].data.flatten()[i])/(Quant[0].data.flatten()[i]+Quant[20].data.flatten()[i]))\n",
    "            y.append(Quant[7].data.flatten()[i]/Quant[11].data.flatten()[i])\n",
    "    return x, y"
   ]
  },
  {
   "cell_type": "code",
   "execution_count": 17,
   "metadata": {},
   "outputs": [],
   "source": [
    "def points (Quant):\n",
    "    x=[]\n",
    "    y=[]\n",
    "    for i in range (len(Quant[0].data.flatten())):\n",
    "        k=0\n",
    "        if np.isnan(Quant[0].data.flatten()[i]) == False:\n",
    "            y.append((Quant[0].data.flatten()[i]+Quant[20].data.flatten()[i])/(Quant[7].data.flatten()[i]+Quant[11].data.flatten()[i]+Quant[0].data.flatten()[i]+Quant[20].data.flatten()[i]))\n",
    "            x.append(-0.5*(1-y[k])+Quant[11].data.flatten()[i]/(Quant[7].data.flatten()[i]+Quant[11].data.flatten()[i]+Quant[0].data.flatten()[i]+Quant[20].data.flatten()[i]))\n",
    "            k=k+1\n",
    "    return x, y"
   ]
  },
  {
   "cell_type": "code",
   "execution_count": 19,
   "metadata": {},
   "outputs": [],
   "source": [
    "import numpy as np\n",
    "import matplotlib.pyplot as plt\n",
    "from matplotlib.patches import Ellipse\n",
    "\n",
    "def eigsorted(cov):\n",
    "    vals, vecs = np.linalg.eigh(cov)\n",
    "    order = vals.argsort()[::-1]\n",
    "    return vals[order], vecs[:,order]"
   ]
  },
  {
   "cell_type": "code",
   "execution_count": 27,
   "metadata": {},
   "outputs": [
    {
     "data": {
      "text/plain": [
       "<BaseSignal, title: atomic percent of Al, dimensions: (59, 71|)>"
      ]
     },
     "execution_count": 27,
     "metadata": {},
     "output_type": "execute_result"
    }
   ],
   "source": [
    "Quant[0][0]"
   ]
  },
  {
   "cell_type": "code",
   "execution_count": 28,
   "metadata": {},
   "outputs": [
    {
     "name": "stderr",
     "output_type": "stream",
     "text": [
      "C:\\Anaconda3\\envs\\HyperspyDev\\lib\\site-packages\\matplotlib\\cbook\\deprecation.py:107: MatplotlibDeprecationWarning: Adding an axes using the same arguments as a previous axes currently reuses the earlier instance.  In a future version, a new instance will always be created and returned.  Meanwhile, this warning can be suppressed, and the future behavior ensured, by passing a unique label to each axes instance.\n",
      "  warnings.warn(message, mplDeprecation, stacklevel=1)\n",
      "C:\\Anaconda3\\envs\\HyperspyDev\\lib\\site-packages\\matplotlib\\cbook\\deprecation.py:107: MatplotlibDeprecationWarning: Adding an axes using the same arguments as a previous axes currently reuses the earlier instance.  In a future version, a new instance will always be created and returned.  Meanwhile, this warning can be suppressed, and the future behavior ensured, by passing a unique label to each axes instance.\n",
      "  warnings.warn(message, mplDeprecation, stacklevel=1)\n",
      "C:\\Anaconda3\\envs\\HyperspyDev\\lib\\site-packages\\matplotlib\\cbook\\deprecation.py:107: MatplotlibDeprecationWarning: Adding an axes using the same arguments as a previous axes currently reuses the earlier instance.  In a future version, a new instance will always be created and returned.  Meanwhile, this warning can be suppressed, and the future behavior ensured, by passing a unique label to each axes instance.\n",
      "  warnings.warn(message, mplDeprecation, stacklevel=1)\n"
     ]
    }
   ],
   "source": [
    "x=[]\n",
    "y = []\n",
    "ell = []\n",
    "for i in range (3):\n",
    "    x.append(0)\n",
    "    y.append(0)\n",
    "    x[i], y[i] = points(Quant[i])\n",
    "    \n",
    "    nstd = 1\n",
    "    ax = plt.subplot(111)\n",
    "\n",
    "    vals, vecs = eigsorted(np.cov(x[i], y[i]))\n",
    "    theta = np.degrees(np.arctan2(*vecs[:,0][::-1]))\n",
    "    w, h = 2 * nstd * np.sqrt(vals)\n",
    "    ell.append(Ellipse(xy=(np.mean(x[i]), np.mean(y[i])),\n",
    "                  width=w, height=h,\n",
    "                  angle=theta, color=color[i]))\n",
    "    ell[i].set_facecolor('none')\n",
    "\n",
    "    #plt.scatter(x, y)\n",
    "    #plt.scatter(np.mean(x[i]), np.mean(y[i]), c= color[i])\n",
    "    #plt.scatter((x[i]), (y[i]), c= color[i])\n",
    "    ax.add_artist(ell[i])\n",
    "ax.legend((ell), (legend))\n",
    "plt.show()"
   ]
  },
  {
   "cell_type": "markdown",
   "metadata": {},
   "source": [
    "# Contour plots ??"
   ]
  },
  {
   "cell_type": "code",
   "execution_count": 31,
   "metadata": {
    "scrolled": true
   },
   "outputs": [
    {
     "data": {
      "text/plain": [
       "\"# Note that scipy.interpolate provides means to interpolate data on a grid\\n# as well. The following would be an alternative to the four lines above:\\nfrom scipy.interpolate import griddata\\nzi = griddata((x, y), z, (xi[None,:], yi[:,None]), method='linear')\""
      ]
     },
     "execution_count": 31,
     "metadata": {},
     "output_type": "execute_result"
    }
   ],
   "source": [
    "import matplotlib.pyplot as plt\n",
    "import matplotlib.tri as tri\n",
    "import numpy as np\n",
    "\n",
    "np.random.seed(19680801)\n",
    "npts = 200\n",
    "ngridx = 100\n",
    "ngridy = 200\n",
    "x = np.random.uniform(-2, 2, npts)\n",
    "y = np.random.uniform(-2, 2, npts)\n",
    "z = x * np.exp(-x**2 - y**2)\n",
    "\n",
    "fig, (ax1, ax2) = plt.subplots(nrows=2)\n",
    "\n",
    "# -----------------------\n",
    "# Interpolation on a grid\n",
    "# -----------------------\n",
    "# A contour plot of irregularly spaced data coordinates\n",
    "# via interpolation on a grid.\n",
    "\n",
    "# Create grid values first.\n",
    "xi = np.linspace(-2.1, 2.1, ngridx)\n",
    "yi = np.linspace(-2.1, 2.1, ngridy)\n",
    "\n",
    "# Perform linear interpolation of the data (x,y)\n",
    "# on a grid defined by (xi,yi)\n",
    "triang = tri.Triangulation(x, y)\n",
    "interpolator = tri.LinearTriInterpolator(triang, z)\n",
    "Xi, Yi = np.meshgrid(xi, yi)\n",
    "zi = interpolator(Xi, Yi)\n",
    "\n",
    "\n",
    "\"\"\"# Note that scipy.interpolate provides means to interpolate data on a grid\n",
    "# as well. The following would be an alternative to the four lines above:\n",
    "from scipy.interpolate import griddata\n",
    "zi = griddata((x, y), z, (xi[None,:], yi[:,None]), method='linear')\"\"\""
   ]
  },
  {
   "cell_type": "code",
   "execution_count": 87,
   "metadata": {},
   "outputs": [
    {
     "data": {
      "text/plain": [
       "matplotlib.tri.triangulation.Triangulation"
      ]
     },
     "execution_count": 87,
     "metadata": {},
     "output_type": "execute_result"
    }
   ],
   "source": [
    "tri.Triangulation()"
   ]
  },
  {
   "cell_type": "code",
   "execution_count": 32,
   "metadata": {},
   "outputs": [
    {
     "name": "stderr",
     "output_type": "stream",
     "text": [
      "C:\\Anaconda3\\envs\\HyperspyDev\\lib\\site-packages\\matplotlib\\contour.py:1173: UserWarning: No contour levels were found within the data range.\n",
      "  warnings.warn(\"No contour levels were found\"\n"
     ]
    },
    {
     "ename": "TypeError",
     "evalue": "len() of unsized object",
     "output_type": "error",
     "traceback": [
      "\u001b[1;31m---------------------------------------------------------------------------\u001b[0m",
      "\u001b[1;31mTypeError\u001b[0m                                 Traceback (most recent call last)",
      "\u001b[1;32m<ipython-input-32-8f76842ebfb0>\u001b[0m in \u001b[0;36m<module>\u001b[1;34m()\u001b[0m\n\u001b[0;32m      1\u001b[0m \u001b[0max1\u001b[0m\u001b[1;33m.\u001b[0m\u001b[0mcontour\u001b[0m\u001b[1;33m(\u001b[0m\u001b[0mxi\u001b[0m\u001b[1;33m,\u001b[0m \u001b[0myi\u001b[0m\u001b[1;33m,\u001b[0m \u001b[0mzi\u001b[0m\u001b[1;33m,\u001b[0m \u001b[0mlevels\u001b[0m\u001b[1;33m=\u001b[0m\u001b[1;36m14\u001b[0m\u001b[1;33m,\u001b[0m \u001b[0mlinewidths\u001b[0m\u001b[1;33m=\u001b[0m\u001b[1;36m0.5\u001b[0m\u001b[1;33m,\u001b[0m \u001b[0mcolors\u001b[0m\u001b[1;33m=\u001b[0m\u001b[1;34m'k'\u001b[0m\u001b[1;33m)\u001b[0m\u001b[1;33m\u001b[0m\u001b[0m\n\u001b[0;32m      2\u001b[0m \u001b[0max1\u001b[0m\u001b[1;33m.\u001b[0m\u001b[0mplot\u001b[0m\u001b[1;33m(\u001b[0m\u001b[0mx\u001b[0m\u001b[1;33m,\u001b[0m \u001b[0my\u001b[0m\u001b[1;33m,\u001b[0m \u001b[1;34m'ko'\u001b[0m\u001b[1;33m,\u001b[0m \u001b[0mms\u001b[0m\u001b[1;33m=\u001b[0m\u001b[1;36m3\u001b[0m\u001b[1;33m)\u001b[0m\u001b[1;33m\u001b[0m\u001b[0m\n\u001b[1;32m----> 3\u001b[1;33m \u001b[0mcntr1\u001b[0m \u001b[1;33m=\u001b[0m \u001b[0max1\u001b[0m\u001b[1;33m.\u001b[0m\u001b[0mcontourf\u001b[0m\u001b[1;33m(\u001b[0m\u001b[0mxi\u001b[0m\u001b[1;33m,\u001b[0m \u001b[0myi\u001b[0m\u001b[1;33m,\u001b[0m \u001b[0mzi\u001b[0m\u001b[1;33m,\u001b[0m \u001b[0mlevels\u001b[0m\u001b[1;33m=\u001b[0m\u001b[1;36m14\u001b[0m\u001b[1;33m,\u001b[0m \u001b[0mcmap\u001b[0m\u001b[1;33m=\u001b[0m\u001b[1;34m\"RdBu_r\"\u001b[0m\u001b[1;33m)\u001b[0m\u001b[1;33m\u001b[0m\u001b[0m\n\u001b[0m\u001b[0;32m      4\u001b[0m \u001b[0mfig\u001b[0m\u001b[1;33m.\u001b[0m\u001b[0mcolorbar\u001b[0m\u001b[1;33m(\u001b[0m\u001b[0mcntr1\u001b[0m\u001b[1;33m,\u001b[0m \u001b[0max\u001b[0m\u001b[1;33m=\u001b[0m\u001b[0max1\u001b[0m\u001b[1;33m)\u001b[0m\u001b[1;33m\u001b[0m\u001b[0m\n",
      "\u001b[1;32mC:\\Anaconda3\\envs\\HyperspyDev\\lib\\site-packages\\matplotlib\\__init__.py\u001b[0m in \u001b[0;36minner\u001b[1;34m(ax, *args, **kwargs)\u001b[0m\n\u001b[0;32m   1853\u001b[0m                         \u001b[1;34m\"the Matplotlib list!)\"\u001b[0m \u001b[1;33m%\u001b[0m \u001b[1;33m(\u001b[0m\u001b[0mlabel_namer\u001b[0m\u001b[1;33m,\u001b[0m \u001b[0mfunc\u001b[0m\u001b[1;33m.\u001b[0m\u001b[0m__name__\u001b[0m\u001b[1;33m)\u001b[0m\u001b[1;33m,\u001b[0m\u001b[1;33m\u001b[0m\u001b[0m\n\u001b[0;32m   1854\u001b[0m                         RuntimeWarning, stacklevel=2)\n\u001b[1;32m-> 1855\u001b[1;33m             \u001b[1;32mreturn\u001b[0m \u001b[0mfunc\u001b[0m\u001b[1;33m(\u001b[0m\u001b[0max\u001b[0m\u001b[1;33m,\u001b[0m \u001b[1;33m*\u001b[0m\u001b[0margs\u001b[0m\u001b[1;33m,\u001b[0m \u001b[1;33m**\u001b[0m\u001b[0mkwargs\u001b[0m\u001b[1;33m)\u001b[0m\u001b[1;33m\u001b[0m\u001b[0m\n\u001b[0m\u001b[0;32m   1856\u001b[0m \u001b[1;33m\u001b[0m\u001b[0m\n\u001b[0;32m   1857\u001b[0m         inner.__doc__ = _add_data_doc(inner.__doc__,\n",
      "\u001b[1;32mC:\\Anaconda3\\envs\\HyperspyDev\\lib\\site-packages\\matplotlib\\axes\\_axes.py\u001b[0m in \u001b[0;36mcontourf\u001b[1;34m(self, *args, **kwargs)\u001b[0m\n\u001b[0;32m   6179\u001b[0m             \u001b[0mself\u001b[0m\u001b[1;33m.\u001b[0m\u001b[0mcla\u001b[0m\u001b[1;33m(\u001b[0m\u001b[1;33m)\u001b[0m\u001b[1;33m\u001b[0m\u001b[0m\n\u001b[0;32m   6180\u001b[0m         \u001b[0mkwargs\u001b[0m\u001b[1;33m[\u001b[0m\u001b[1;34m'filled'\u001b[0m\u001b[1;33m]\u001b[0m \u001b[1;33m=\u001b[0m \u001b[1;32mTrue\u001b[0m\u001b[1;33m\u001b[0m\u001b[0m\n\u001b[1;32m-> 6181\u001b[1;33m         \u001b[0mcontours\u001b[0m \u001b[1;33m=\u001b[0m \u001b[0mmcontour\u001b[0m\u001b[1;33m.\u001b[0m\u001b[0mQuadContourSet\u001b[0m\u001b[1;33m(\u001b[0m\u001b[0mself\u001b[0m\u001b[1;33m,\u001b[0m \u001b[1;33m*\u001b[0m\u001b[0margs\u001b[0m\u001b[1;33m,\u001b[0m \u001b[1;33m**\u001b[0m\u001b[0mkwargs\u001b[0m\u001b[1;33m)\u001b[0m\u001b[1;33m\u001b[0m\u001b[0m\n\u001b[0m\u001b[0;32m   6182\u001b[0m         \u001b[0mself\u001b[0m\u001b[1;33m.\u001b[0m\u001b[0mautoscale_view\u001b[0m\u001b[1;33m(\u001b[0m\u001b[1;33m)\u001b[0m\u001b[1;33m\u001b[0m\u001b[0m\n\u001b[0;32m   6183\u001b[0m         \u001b[1;32mreturn\u001b[0m \u001b[0mcontours\u001b[0m\u001b[1;33m\u001b[0m\u001b[0m\n",
      "\u001b[1;32mC:\\Anaconda3\\envs\\HyperspyDev\\lib\\site-packages\\matplotlib\\contour.py\u001b[0m in \u001b[0;36m__init__\u001b[1;34m(self, ax, *args, **kwargs)\u001b[0m\n\u001b[0;32m    844\u001b[0m         \u001b[0mself\u001b[0m\u001b[1;33m.\u001b[0m\u001b[0m_transform\u001b[0m \u001b[1;33m=\u001b[0m \u001b[0mkwargs\u001b[0m\u001b[1;33m.\u001b[0m\u001b[0mpop\u001b[0m\u001b[1;33m(\u001b[0m\u001b[1;34m'transform'\u001b[0m\u001b[1;33m,\u001b[0m \u001b[1;32mNone\u001b[0m\u001b[1;33m)\u001b[0m\u001b[1;33m\u001b[0m\u001b[0m\n\u001b[0;32m    845\u001b[0m \u001b[1;33m\u001b[0m\u001b[0m\n\u001b[1;32m--> 846\u001b[1;33m         \u001b[0mkwargs\u001b[0m \u001b[1;33m=\u001b[0m \u001b[0mself\u001b[0m\u001b[1;33m.\u001b[0m\u001b[0m_process_args\u001b[0m\u001b[1;33m(\u001b[0m\u001b[1;33m*\u001b[0m\u001b[0margs\u001b[0m\u001b[1;33m,\u001b[0m \u001b[1;33m**\u001b[0m\u001b[0mkwargs\u001b[0m\u001b[1;33m)\u001b[0m\u001b[1;33m\u001b[0m\u001b[0m\n\u001b[0m\u001b[0;32m    847\u001b[0m         \u001b[0mself\u001b[0m\u001b[1;33m.\u001b[0m\u001b[0m_process_levels\u001b[0m\u001b[1;33m(\u001b[0m\u001b[1;33m)\u001b[0m\u001b[1;33m\u001b[0m\u001b[0m\n\u001b[0;32m    848\u001b[0m \u001b[1;33m\u001b[0m\u001b[0m\n",
      "\u001b[1;32mC:\\Anaconda3\\envs\\HyperspyDev\\lib\\site-packages\\matplotlib\\contour.py\u001b[0m in \u001b[0;36m_process_args\u001b[1;34m(self, *args, **kwargs)\u001b[0m\n\u001b[0;32m   1414\u001b[0m                 \u001b[0mself\u001b[0m\u001b[1;33m.\u001b[0m\u001b[0m_corner_mask\u001b[0m \u001b[1;33m=\u001b[0m \u001b[0mmpl\u001b[0m\u001b[1;33m.\u001b[0m\u001b[0mrcParams\u001b[0m\u001b[1;33m[\u001b[0m\u001b[1;34m'contour.corner_mask'\u001b[0m\u001b[1;33m]\u001b[0m\u001b[1;33m\u001b[0m\u001b[0m\n\u001b[0;32m   1415\u001b[0m \u001b[1;33m\u001b[0m\u001b[0m\n\u001b[1;32m-> 1416\u001b[1;33m             \u001b[0mx\u001b[0m\u001b[1;33m,\u001b[0m \u001b[0my\u001b[0m\u001b[1;33m,\u001b[0m \u001b[0mz\u001b[0m \u001b[1;33m=\u001b[0m \u001b[0mself\u001b[0m\u001b[1;33m.\u001b[0m\u001b[0m_contour_args\u001b[0m\u001b[1;33m(\u001b[0m\u001b[0margs\u001b[0m\u001b[1;33m,\u001b[0m \u001b[0mkwargs\u001b[0m\u001b[1;33m)\u001b[0m\u001b[1;33m\u001b[0m\u001b[0m\n\u001b[0m\u001b[0;32m   1417\u001b[0m \u001b[1;33m\u001b[0m\u001b[0m\n\u001b[0;32m   1418\u001b[0m             \u001b[0m_mask\u001b[0m \u001b[1;33m=\u001b[0m \u001b[0mma\u001b[0m\u001b[1;33m.\u001b[0m\u001b[0mgetmask\u001b[0m\u001b[1;33m(\u001b[0m\u001b[0mz\u001b[0m\u001b[1;33m)\u001b[0m\u001b[1;33m\u001b[0m\u001b[0m\n",
      "\u001b[1;32mC:\\Anaconda3\\envs\\HyperspyDev\\lib\\site-packages\\matplotlib\\contour.py\u001b[0m in \u001b[0;36m_contour_args\u001b[1;34m(self, args, kwargs)\u001b[0m\n\u001b[0;32m   1484\u001b[0m             \u001b[0mwarnings\u001b[0m\u001b[1;33m.\u001b[0m\u001b[0mwarn\u001b[0m\u001b[1;33m(\u001b[0m\u001b[1;34m'Log scale: values of z <= 0 have been masked'\u001b[0m\u001b[1;33m)\u001b[0m\u001b[1;33m\u001b[0m\u001b[0m\n\u001b[0;32m   1485\u001b[0m             \u001b[0mself\u001b[0m\u001b[1;33m.\u001b[0m\u001b[0mzmin\u001b[0m \u001b[1;33m=\u001b[0m \u001b[0mfloat\u001b[0m\u001b[1;33m(\u001b[0m\u001b[0mz\u001b[0m\u001b[1;33m.\u001b[0m\u001b[0mmin\u001b[0m\u001b[1;33m(\u001b[0m\u001b[1;33m)\u001b[0m\u001b[1;33m)\u001b[0m\u001b[1;33m\u001b[0m\u001b[0m\n\u001b[1;32m-> 1486\u001b[1;33m         \u001b[0mself\u001b[0m\u001b[1;33m.\u001b[0m\u001b[0m_contour_level_args\u001b[0m\u001b[1;33m(\u001b[0m\u001b[0mz\u001b[0m\u001b[1;33m,\u001b[0m \u001b[0margs\u001b[0m\u001b[1;33m)\u001b[0m\u001b[1;33m\u001b[0m\u001b[0m\n\u001b[0m\u001b[0;32m   1487\u001b[0m         \u001b[1;32mreturn\u001b[0m \u001b[1;33m(\u001b[0m\u001b[0mx\u001b[0m\u001b[1;33m,\u001b[0m \u001b[0my\u001b[0m\u001b[1;33m,\u001b[0m \u001b[0mz\u001b[0m\u001b[1;33m)\u001b[0m\u001b[1;33m\u001b[0m\u001b[0m\n\u001b[0;32m   1488\u001b[0m \u001b[1;33m\u001b[0m\u001b[0m\n",
      "\u001b[1;32mC:\\Anaconda3\\envs\\HyperspyDev\\lib\\site-packages\\matplotlib\\contour.py\u001b[0m in \u001b[0;36m_contour_level_args\u001b[1;34m(self, z, args)\u001b[0m\n\u001b[0;32m   1174\u001b[0m                               \" within the data range.\")\n\u001b[0;32m   1175\u001b[0m \u001b[1;33m\u001b[0m\u001b[0m\n\u001b[1;32m-> 1176\u001b[1;33m         \u001b[1;32mif\u001b[0m \u001b[0mself\u001b[0m\u001b[1;33m.\u001b[0m\u001b[0mfilled\u001b[0m \u001b[1;32mand\u001b[0m \u001b[0mlen\u001b[0m\u001b[1;33m(\u001b[0m\u001b[0mself\u001b[0m\u001b[1;33m.\u001b[0m\u001b[0mlevels\u001b[0m\u001b[1;33m)\u001b[0m \u001b[1;33m<\u001b[0m \u001b[1;36m2\u001b[0m\u001b[1;33m:\u001b[0m\u001b[1;33m\u001b[0m\u001b[0m\n\u001b[0m\u001b[0;32m   1177\u001b[0m             \u001b[1;32mraise\u001b[0m \u001b[0mValueError\u001b[0m\u001b[1;33m(\u001b[0m\u001b[1;34m\"Filled contours require at least 2 levels.\"\u001b[0m\u001b[1;33m)\u001b[0m\u001b[1;33m\u001b[0m\u001b[0m\n\u001b[0;32m   1178\u001b[0m \u001b[1;33m\u001b[0m\u001b[0m\n",
      "\u001b[1;31mTypeError\u001b[0m: len() of unsized object"
     ]
    }
   ],
   "source": [
    "ax1.contour(xi, yi, zi, levels=14, linewidths=0.5, colors='k')\n",
    "ax1.plot(x, y, 'ko', ms=3)\n",
    "cntr1 = ax1.contourf(xi, yi, zi, levels=14, cmap=\"RdBu_r\")\n",
    "fig.colorbar(cntr1, ax=ax1)"
   ]
  },
  {
   "cell_type": "code",
   "execution_count": 82,
   "metadata": {},
   "outputs": [
    {
     "name": "stderr",
     "output_type": "stream",
     "text": [
      "C:\\Anaconda3\\envs\\HyperspyDev\\lib\\site-packages\\matplotlib\\contour.py:1173: UserWarning: No contour levels were found within the data range.\n",
      "  warnings.warn(\"No contour levels were found\"\n"
     ]
    }
   ],
   "source": [
    "ax1.contour(xi, yi, zi, levels=14, linewidths=0.5, colors='k')\n",
    "#cntr1 = ax1.contourf(xi, yi, zi, levels=14, cmap=\"RdBu_r\")\n",
    "\n",
    "#fig.colorbar(cntr1, ax=ax1)\n",
    "ax1.plot(x, y, 'ko', ms=3)\n",
    "ax1.axis((-2, 2, -2, 2))\n",
    "ax1.set_title('grid and contour (%d points, %d grid points)' %\n",
    "              (npts, ngridx * ngridy))\n",
    "plt.show()"
   ]
  },
  {
   "cell_type": "code",
   "execution_count": 81,
   "metadata": {},
   "outputs": [
    {
     "name": "stderr",
     "output_type": "stream",
     "text": [
      "C:\\Anaconda3\\envs\\HyperspyDev\\lib\\site-packages\\matplotlib\\contour.py:1173: UserWarning: No contour levels were found within the data range.\n",
      "  warnings.warn(\"No contour levels were found\"\n"
     ]
    }
   ],
   "source": [
    "\n",
    "# ----------\n",
    "# Tricontour\n",
    "# ----------\n",
    "# Directly supply the unordered, irregularly spaced coordinates\n",
    "# to tricontour.\n",
    "\n",
    "ax2.tricontour(x, y, z, levels=14, linewidths=0.5, colors='k')\n",
    "#cntr2 = ax2.tricontourf(x, y, z, levels=14, cmap=\"RdBu_r\")\n",
    "\n",
    "#fig.colorbar(cntr2, ax=ax2)\n",
    "ax2.plot(x, y, 'ko', ms=3)\n",
    "ax2.axis((-2, 2, -2, 2))\n",
    "ax2.set_title('tricontour (%d points)' % npts)\n",
    "\n",
    "plt.subplots_adjust(hspace=0.5)\n",
    "plt.show()"
   ]
  }
 ],
 "metadata": {
  "kernelspec": {
   "display_name": "Python [conda env:HyperspyDev]",
   "language": "python",
   "name": "conda-env-HyperspyDev-py"
  },
  "language_info": {
   "codemirror_mode": {
    "name": "ipython",
    "version": 3
   },
   "file_extension": ".py",
   "mimetype": "text/x-python",
   "name": "python",
   "nbconvert_exporter": "python",
   "pygments_lexer": "ipython3",
   "version": "3.6.6"
  }
 },
 "nbformat": 4,
 "nbformat_minor": 2
}
